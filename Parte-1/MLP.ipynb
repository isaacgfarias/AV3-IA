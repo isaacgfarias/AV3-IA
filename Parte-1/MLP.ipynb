{
 "cells": [
  {
   "cell_type": "code",
   "execution_count": null,
   "metadata": {},
   "outputs": [],
   "source": [
    "%pip install numpy\n",
    "%pip install matplotlib"
   ]
  },
  {
   "cell_type": "code",
   "execution_count": 24,
   "metadata": {},
   "outputs": [],
   "source": [
    "import numpy as np\n",
    "import matplotlib.pyplot as plt\n",
    "import seaborn as sns"
   ]
  },
  {
   "cell_type": "markdown",
   "metadata": {},
   "source": [
    "Carregar os dados"
   ]
  },
  {
   "cell_type": "code",
   "execution_count": 25,
   "metadata": {},
   "outputs": [],
   "source": [
    "data = np.loadtxt(r'assets\\spiral.csv', delimiter=',')\n",
    "X = np.array(data[:, :2].T)\n",
    "Y = np.array(data[:, 2].T).astype(int)"
   ]
  },
  {
   "cell_type": "markdown",
   "metadata": {},
   "source": [
    "Preparação dos dados"
   ]
  },
  {
   "cell_type": "code",
   "execution_count": 26,
   "metadata": {},
   "outputs": [],
   "source": [
    "p, N = X.shape\n",
    "X = np.concatenate((-np.ones((1, N)), X))  # Bias\n",
    "Y[Y == 0] = -1  # Ajustando as classes para [-1, 1]"
   ]
  },
  {
   "cell_type": "markdown",
   "metadata": {},
   "source": [
    "Funções auxiliares"
   ]
  },
  {
   "cell_type": "code",
   "execution_count": 27,
   "metadata": {},
   "outputs": [],
   "source": [
    "def sigmoid(z):\n",
    "    return 1 / (1 + np.exp(-z))\n",
    "\n",
    "def sigmoid_derivative(z):\n",
    "    return sigmoid(z) * (1 - sigmoid(z))\n",
    "\n",
    "def sinal(u_t):\n",
    "    return np.where(u_t >= 0, 1, -1)"
   ]
  },
  {
   "cell_type": "markdown",
   "metadata": {},
   "source": [
    "Parâmetros do MLP"
   ]
  },
  {
   "cell_type": "code",
   "execution_count": 35,
   "metadata": {},
   "outputs": [],
   "source": [
    "n_hidden = 10\n",
    "rodadas = 500\n",
    "aprendizado = 0.01\n",
    "epocas = 1000"
   ]
  },
  {
   "cell_type": "markdown",
   "metadata": {},
   "source": [
    "Métricas"
   ]
  },
  {
   "cell_type": "code",
   "execution_count": 29,
   "metadata": {},
   "outputs": [],
   "source": [
    "acuracias = []\n",
    "sensibilidades = []\n",
    "especificidades = []\n",
    "matrizes_de_confusao = []"
   ]
  },
  {
   "cell_type": "markdown",
   "metadata": {},
   "source": [
    "Rodadas de Monte Carlo"
   ]
  },
  {
   "cell_type": "code",
   "execution_count": 30,
   "metadata": {},
   "outputs": [
    {
     "name": "stdout",
     "output_type": "stream",
     "text": [
      "Rodada 500/500\r"
     ]
    }
   ],
   "source": [
    "for i in range(rodadas):\n",
    "    print(f\"Rodada {i + 1}/{rodadas}\", end='\\r')\n",
    "\n",
    "    # Inicialização dos pesos\n",
    "    W1 = np.random.randn(n_hidden, p + 1)  # Entrada -> 1ª camada\n",
    "    W2 = np.random.randn(n_hidden, n_hidden + 1)  # 1ª camada -> 2ª camada\n",
    "    W3 = np.random.randn(1, n_hidden + 1)  # 2ª camada -> saída\n",
    "\n",
    "    # Separação em treino e teste\n",
    "    seed = np.random.permutation(N)\n",
    "    Xr, yr = X[:, seed], Y[seed]\n",
    "    treino_size = int(N * 0.8)\n",
    "    X_treino, y_treino = Xr[:, :treino_size], yr[:treino_size]\n",
    "    X_teste, y_teste = Xr[:, treino_size:], yr[treino_size:]\n",
    "\n",
    "    # Treinamento do MLP\n",
    "    for _ in range(epocas):\n",
    "        # Forward pass\n",
    "        Z1 = W1 @ X_treino\n",
    "        A1 = np.vstack((-np.ones((1, treino_size)), sigmoid(Z1)))\n",
    "        Z2 = W2 @ A1\n",
    "        A2 = np.vstack((-np.ones((1, treino_size)), sigmoid(Z2)))\n",
    "        Z3 = W3 @ A2\n",
    "        A3 = sigmoid(Z3)\n",
    "\n",
    "        # Backpropagation\n",
    "        erro_saida = y_treino - A3.flatten()\n",
    "        delta3 = (erro_saida * A3.flatten() * (1 - A3.flatten())).reshape(1, -1)  # Ensure delta3 is 2D\n",
    "        grad_W3 = delta3 @ A2.T\n",
    "\n",
    "        delta2 = (W3[:, 1:].T @ delta3) * A2[1:] * (1 - A2[1:])\n",
    "        grad_W2 = delta2 @ A1.T\n",
    "\n",
    "        delta1 = (W2[:, 1:].T @ delta2) * A1[1:] * (1 - A1[1:])\n",
    "        grad_W1 = delta1 @ X_treino.T\n",
    "\n",
    "\n",
    "        # Atualização dos pesos\n",
    "        W3 += aprendizado * grad_W3\n",
    "        W2 += aprendizado * grad_W2\n",
    "        W1 += aprendizado * grad_W1\n",
    "\n",
    "    # Teste do MLP\n",
    "    Z1 = W1 @ X_teste\n",
    "    A1 = np.vstack((-np.ones((1, X_teste.shape[1])), sigmoid(Z1)))\n",
    "    Z2 = W2 @ A1\n",
    "    A2 = np.vstack((-np.ones((1, X_teste.shape[1])), sigmoid(Z2)))\n",
    "    Z3 = W3 @ A2\n",
    "    Y_predito = sinal(Z3).flatten()\n",
    "\n",
    "    # Métricas\n",
    "    TP = np.sum((Y_predito == 1) & (y_teste == 1))\n",
    "    TN = np.sum((Y_predito == -1) & (y_teste == -1))\n",
    "    FP = np.sum((Y_predito == 1) & (y_teste == -1))\n",
    "    FN = np.sum((Y_predito == -1) & (y_teste == 1))\n",
    "\n",
    "    acuracias.append((TP + TN) / len(y_teste))\n",
    "    sensibilidades.append(TP / (TP + FN) if (TP + FN) > 0 else 0)\n",
    "    especificidades.append(TN / (TN + FP) if (TN + FP) > 0 else 0)\n",
    "    matrizes_de_confusao.append([[TP, FP], [FN, TN]])\n"
   ]
  },
  {
   "cell_type": "markdown",
   "metadata": {},
   "source": [
    "#### Resultados"
   ]
  },
  {
   "cell_type": "code",
   "execution_count": 31,
   "metadata": {},
   "outputs": [],
   "source": [
    "rodada_max_acuracia = np.argmax(acuracias)\n",
    "rodada_min_acuracia = np.argmin(acuracias)"
   ]
  },
  {
   "cell_type": "code",
   "execution_count": 32,
   "metadata": {},
   "outputs": [
    {
     "data": {
      "image/png": "[encoded data removed]",
      "text/plain": [
       "<Figure size 640x480 with 2 Axes>"
      ]
     },
     "metadata": {},
     "output_type": "display_data"
    }
   ],
   "source": [
    "sns.heatmap(matrizes_de_confusao[rodada_max_acuracia], annot=True, fmt='d', cmap='Greens',\n",
    "            xticklabels=['Real: 1', 'Real: -1'], yticklabels=['Previsão: 1', 'Previsão: -1'])\n",
    "plt.title('Matriz de Confusão - Maior Acurácia')\n",
    "plt.show()"
   ]
  },
  {
   "cell_type": "code",
   "execution_count": 33,
   "metadata": {},
   "outputs": [
    {
     "data": {
      "image/png": "[encoded data removed]",
      "text/plain": [
       "<Figure size 640x480 with 2 Axes>"
      ]
     },
     "metadata": {},
     "output_type": "display_data"
    }
   ],
   "source": [
    "sns.heatmap(matrizes_de_confusao[rodada_min_acuracia], annot=True, fmt='d', cmap='Blues',\n",
    "            xticklabels=['Real: 1', 'Real: -1'], yticklabels=['Previsão: 1', 'Previsão: -1'])\n",
    "plt.title('Matriz de Confusão - Menor Acurácia')\n",
    "plt.show()"
   ]
  },
  {
   "cell_type": "code",
   "execution_count": 34,
   "metadata": {},
   "outputs": [
    {
     "name": "stdout",
     "output_type": "stream",
     "text": [
      "Acurácia: \n",
      "    Média=0.6949 \n",
      "    DP=0.0800 \n",
      "    Max=0.8800 \n",
      "    Min=0.4400\n",
      "\n",
      "Sensibilidade: \n",
      "    Média=0.4223 \n",
      "    DP=0.1764 \n",
      "    Max=0.7525 \n",
      "    Min=0.0000\n",
      "\n",
      "Especificidade: \n",
      "    Média=0.9681 \n",
      "    DP=0.0498 \n",
      "    Max=1.0000 \n",
      "    Min=0.7095\n",
      "\n"
     ]
    }
   ],
   "source": [
    "print(\n",
    "f'''Acurácia: \n",
    "    Média={np.mean(acuracias):.4f} \n",
    "    DP={np.std(acuracias):.4f} \n",
    "    Max={np.max(acuracias):.4f} \n",
    "    Min={np.min(acuracias):.4f}''', end='\\n\\n')\n",
    "print(\n",
    "f'''Sensibilidade: \n",
    "    Média={np.mean(sensibilidades):.4f} \n",
    "    DP={np.std(sensibilidades):.4f} \n",
    "    Max={np.max(sensibilidades):.4f} \n",
    "    Min={np.min(sensibilidades):.4f}''', end='\\n\\n')\n",
    "print(\n",
    "f'''Especificidade: \n",
    "    Média={np.mean(especificidades):.4f} \n",
    "    DP={np.std(especificidades):.4f} \n",
    "    Max={np.max(especificidades):.4f} \n",
    "    Min={np.min(especificidades):.4f}''', end='\\n\\n')"
   ]
  }
 ],
 "metadata": {
  "kernelspec": {
   "display_name": "Python 3",
   "language": "python",
   "name": "python3"
  },
  "language_info": {
   "codemirror_mode": {
    "name": "ipython",
    "version": 3
   },
   "file_extension": ".py",
   "mimetype": "text/x-python",
   "name": "python",
   "nbconvert_exporter": "python",
   "pygments_lexer": "ipython3",
   "version": "3.13.0"
  }
 },
 "nbformat": 4,
 "nbformat_minor": 2
}
