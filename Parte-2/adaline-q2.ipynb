{
 "cells": [
  {
   "cell_type": "code",
   "execution_count": null,
   "metadata": {},
   "outputs": [],
   "source": [
    "%pip install matplotlib\n",
    "%pip install seaborn\n",
    "%pip install numpy\n",
    "%pip install opencv"
   ]
  },
  {
   "cell_type": "code",
   "execution_count": null,
   "metadata": {},
   "outputs": [],
   "source": [
    "import os\n",
    "import cv2\n",
    "import numpy as np\n",
    "import matplotlib.pyplot as plt\n",
    "import seaborn as sns\n"
   ]
  },
  {
   "cell_type": "code",
   "execution_count": null,
   "metadata": {},
   "outputs": [],
   "source": [
    "def load_images_from_directory(directory, img_size=(50, 50)):\n",
    "    \"\"\"\n",
    "    Carrega e redimensiona imagens de um diretório.\n",
    "    Args:\n",
    "        directory (str): Caminho do diretório.\n",
    "        img_size (tuple): Tamanho para redimensionamento das imagens.\n",
    "    Returns:\n",
    "        images (list): Lista de imagens em escala de cinza redimensionadas.\n",
    "        labels (list): Lista de rótulos correspondentes.\n",
    "    \"\"\"\n",
    "    images = []\n",
    "    labels = []\n",
    "    classes = sorted(os.listdir(directory))  # Cada subdiretório é uma classe\n",
    "    for label_idx, class_name in enumerate(classes):\n",
    "        class_path = os.path.join(directory, class_name)\n",
    "        if os.path.isdir(class_path):\n",
    "            for file_name in os.listdir(class_path):\n",
    "                img_path = os.path.join(class_path, file_name)\n",
    "                img = cv2.imread(img_path, cv2.IMREAD_GRAYSCALE)  # Carrega em escala de cinza\n",
    "                if img is not None:\n",
    "                    img_resized = cv2.resize(img, img_size)\n",
    "                    images.append(img_resized.flatten())  # Achatar imagem em vetor\n",
    "                    labels.append(label_idx)\n",
    "    return np.array(images), np.array(labels)\n"
   ]
  },
  {
   "cell_type": "code",
   "execution_count": null,
   "metadata": {},
   "outputs": [],
   "source": [
    "def normalize_data(images):\n",
    "    return images / 255.0"
   ]
  },
  {
   "cell_type": "code",
   "execution_count": null,
   "metadata": {},
   "outputs": [],
   "source": [
    "def one_hot_encode(labels, num_classes):\n",
    "    return np.eye(num_classes)[labels]\n"
   ]
  },
  {
   "cell_type": "markdown",
   "metadata": {},
   "source": [
    "#### Definição do Modelo Perceptron"
   ]
  },
  {
   "cell_type": "code",
   "execution_count": null,
   "metadata": {},
   "outputs": [],
   "source": [
    "def step_function(x):\n",
    "    return np.where(x >= 0, 1, 0)\n",
    "\n",
    "def linear_activation(x):\n",
    "    return x  # Função de ativação linear (identidade)\n",
    "\n",
    "class Adaline:\n",
    "    def __init__(self, input_size, num_classes):\n",
    "        self.weights = np.random.randn(input_size, num_classes) * 0.01  # Inicialização dos pesos\n",
    "        self.bias = np.zeros(num_classes)  # Inicialização dos vieses\n",
    "\n",
    "    def train(self, X, y, epochs=10, lr=0.1):\n",
    "        \"\"\"\n",
    "        Treina o modelo Adaline.\n",
    "        Args:\n",
    "            X (np.array): Dados de entrada.\n",
    "            y (np.array): Rótulos.\n",
    "            epochs (int): Número de épocas para o treinamento.\n",
    "            lr (float): Taxa de aprendizado.\n",
    "        \"\"\"\n",
    "        for epoch in range(epochs):\n",
    "            for i in range(X.shape[0]):\n",
    "                output = linear_activation(np.dot(X[i], self.weights) + self.bias)  # Saída do modelo\n",
    "                error = y[i] - output  # Erro contínuo\n",
    "                self.weights += lr * np.outer(X[i], error)  # Atualização dos pesos\n",
    "                self.bias += lr * error  # Atualização do viés\n",
    "\n",
    "    def predict(self, X):\n",
    "        \"\"\"\n",
    "        Realiza a previsão.\n",
    "        Args:\n",
    "            X (np.array): Dados de entrada.\n",
    "        Returns:\n",
    "            np.array: Saídas previstas.\n",
    "        \"\"\"\n",
    "        return linear_activation(np.dot(X, self.weights) + self.bias)\n",
    "    \n"
   ]
  },
  {
   "cell_type": "code",
   "execution_count": null,
   "metadata": {},
   "outputs": [],
   "source": []
  }
 ],
 "metadata": {
  "language_info": {
   "name": "python"
  }
 },
 "nbformat": 4,
 "nbformat_minor": 2
}
